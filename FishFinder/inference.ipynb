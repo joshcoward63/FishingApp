{
 "cells": [
  {
   "cell_type": "code",
   "execution_count": 1,
   "metadata": {},
   "outputs": [],
   "source": [
    "import numpy as np\n",
    "import tensorflow as tf\n",
    "from PIL import Image\n",
    "import time\n",
    "import cv2\n",
    "import matplotlib.pyplot as plt\n",
    "\n",
    "class Object_Detector():\n",
    "    def top(self, top_left1 = 0): \n",
    "         self.top_left1 = top_left1 \n",
    "      \n",
    "    # getter method \n",
    "    def getTop(self): \n",
    "        return self.top_left1 \n",
    "      \n",
    "    # setter method \n",
    "    def setTop(self, x): \n",
    "        self.top_left1 = x         \n",
    "        \n",
    "    def bottom(self, bottom_right1 = 0): \n",
    "         self.bottom_right1 = bottom_right1\n",
    "      \n",
    "    # getter method \n",
    "    def getBottom(self): \n",
    "        return self.bottom_right1 \n",
    "      \n",
    "    # setter method \n",
    "    def setBottom(self, x): \n",
    "        self.bottom_right1 = x    \n",
    "    \n",
    "    def __init__(self, model_path):\n",
    "        self.__load_model(model_path)\n",
    "        print('model loaded')\n",
    "\n",
    "    def __load_model(self, model_path):\n",
    "        self.detection_graph = tf.Graph()\n",
    "        with self.detection_graph.as_default():\n",
    "            od_graph_def = tf.GraphDef()\n",
    "            with tf.gfile.GFile(model_path, 'rb') as fid:\n",
    "                serialized_graph = fid.read()\n",
    "                od_graph_def.ParseFromString(serialized_graph)\n",
    "                tf.import_graph_def(od_graph_def, name='')\n",
    "\n",
    "        config = tf.ConfigProto()\n",
    "        config.gpu_options.allow_growth= True\n",
    "\n",
    "        with self.detection_graph.as_default():\n",
    "            self.sess = tf.Session(config=config, graph=self.detection_graph)\n",
    "            self.image_tensor = self.detection_graph.get_tensor_by_name('image_tensor:0')\n",
    "            self.detection_boxes = self.detection_graph.get_tensor_by_name('detection_boxes:0')\n",
    "            self.detection_scores = self.detection_graph.get_tensor_by_name('detection_scores:0')\n",
    "            self.detection_classes = self.detection_graph.get_tensor_by_name('detection_classes:0')\n",
    "            self.num_detections = self.detection_graph.get_tensor_by_name('num_detections:0')\n",
    "\n",
    "        # load label_dict\n",
    "        self.label_dict = {1: 'fish'}\n",
    "        \n",
    "        # warmup\n",
    "        self.detect_image(np.ones((600, 600, 3)))\n",
    " \n",
    "\n",
    "    def detect_image(self, image_np, score_thr=0.5, print_time=False):\n",
    "        image_w, image_h = image_np.shape[1], image_np.shape[0]\n",
    "    \n",
    "        # Actual detection.\n",
    "        t = time.time()\n",
    "        (boxes, scores, classes, num) = self.sess.run(\n",
    "          [self.detection_boxes, self.detection_scores, self.detection_classes, self.num_detections],\n",
    "          feed_dict={self.image_tensor: np.expand_dims(image_np, axis=0)})\n",
    "        if print_time:\n",
    "            print('detection time :', time.time()-t)\n",
    "        # Visualization of the results of a detection.\n",
    "        for i, box in enumerate(boxes[scores>score_thr]):\n",
    "            top_left = (int(box[1]*image_w), int(box[0]*image_h))\n",
    "            self.setTop(top_left)\n",
    "            bottom_right = (int(box[3]*image_w), int(box[2]*image_h))\n",
    "            self.setBottom(bottom_right)\n",
    "            cv2.rectangle(image_np, top_left, bottom_right, (0,255,0), 3)\n",
    "            cv2.putText(image_np, self.label_dict[int(classes[0,i])], top_left, cv2.FONT_HERSHEY_SIMPLEX, 1, (0,255,0), 2)\n",
    "    \n",
    "        return image_np"
   ]
  },
  {
   "cell_type": "code",
   "execution_count": 2,
   "metadata": {},
   "outputs": [
    {
     "name": "stdout",
     "output_type": "stream",
     "text": [
      "model loaded\n"
     ]
    }
   ],
   "source": [
    "# MODEL_PATH = 'fish_ssd_fpn_graph/frozen_inference_graph.pb'\n",
    "MODEL_PATH = 'frozen_inference_graph.pb'\n",
    "object_detector = Object_Detector(MODEL_PATH)"
   ]
  },
  {
   "cell_type": "code",
   "execution_count": null,
   "metadata": {},
   "outputs": [],
   "source": [
    "pic = \"C:\\\\Users\\\\joshc\\\\OneDrive\\\\Desktop\\\\test\\\\fishs82.png\"\n",
    "img = cv2.imread(pic)\n",
    "# img = cv2.cvtColor(img, cv2.COLOR_BGR2RGB)\n",
    "\n",
    "image = Image.open(pic)\n",
    "img_ = object_detector.detect_image(img, score_thr=0.9)\n",
    "# box = object_detector.box_cord(img, score_thr=0.99)\n",
    "x,y = object_detector.getTop()\n",
    "z, w =object_detector.getBottom()\n",
    "croppedImage = image.crop((x,y,z,w))\n",
    "croppedImage.show()\n",
    "cv2.imshow(\"image\", img_)\n",
    "cv2.waitKey(0)\n",
    "cv2.destroyAllWindows()"
   ]
  },
  {
   "cell_type": "code",
   "execution_count": 12,
   "metadata": {},
   "outputs": [
    {
     "name": "stdout",
     "output_type": "stream",
     "text": [
      "1020\n"
     ]
    }
   ],
   "source": [
    "import glob\n",
    "import os\n",
    "list = []\n",
    "for filepath in glob.iglob( r\"C:\\\\Users\\\\joshc\\\\Downloads\\\\preproc\\\\channelcatpre\\\\*.jpg\"):\n",
    "    list.append(filepath)\n",
    "print(len(list))"
   ]
  },
  {
   "cell_type": "code",
   "execution_count": 13,
   "metadata": {},
   "outputs": [],
   "source": [
    "path2 = \"C:\\\\Users\\\\joshc\\\\Downloads\\\\preproc\\\\channelCatfish\"\n",
    "j = 0\n",
    "for i in list:\n",
    "   \n",
    "    img = cv2.imread(i)\n",
    "    # img = cv2.cvtColor(img, cv2.COLOR_BGR2RGB)\n",
    "\n",
    "    image = Image.open(i)\n",
    "    img_ = object_detector.detect_image(img, score_thr=0.9)\n",
    "    # box = object_detector.box_cord(img, score_thr=0.99)\n",
    "    x,y = object_detector.getTop()\n",
    "    z, w =object_detector.getBottom()\n",
    "    croppedImage = image.crop((x,y,z,w))\n",
    "    croppedImage.save(os.path.join(path2, \"image\" + str(j) + \".png\"))\n",
    "    j+=1\n"
   ]
  },
  {
   "cell_type": "code",
   "execution_count": null,
   "metadata": {},
   "outputs": [],
   "source": []
  }
 ],
 "metadata": {
  "kernelspec": {
   "display_name": "Python 3",
   "language": "python",
   "name": "python3"
  },
  "language_info": {
   "codemirror_mode": {
    "name": "ipython",
    "version": 3
   },
   "file_extension": ".py",
   "mimetype": "text/x-python",
   "name": "python",
   "nbconvert_exporter": "python",
   "pygments_lexer": "ipython3",
   "version": "3.7.7"
  }
 },
 "nbformat": 4,
 "nbformat_minor": 2
}